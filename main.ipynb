{
 "cells": [
  {
   "cell_type": "code",
   "execution_count": 1,
   "id": "9d8c2a74",
   "metadata": {},
   "outputs": [
    {
     "name": "stdout",
     "output_type": "stream",
     "text": [
      "\n",
      "Kolom: EngagementSurvey\n",
      "Nilai Minimum: 43, dipegang oleh: Dee, Randy\n",
      "Nilai Maksimum: 500, dipegang oleh: Anderson, Carol \n",
      "\n",
      "Kolom: EmpSatisfaction\n",
      "Nilai Minimum: 1, dipegang oleh: Dietrich, Jenna  \n",
      "Nilai Maksimum: 5, dipegang oleh: Adinolfi, Wilson  K\n",
      "\n",
      "Kolom: SpecialProjectsCount\n",
      "Nilai Minimum: 0, dipegang oleh: Adinolfi, Wilson  K\n",
      "Nilai Maksimum: 8, dipegang oleh: Daniele, Ann  \n",
      "\n",
      "Kolom: Absences\n",
      "Nilai Minimum: 1, dipegang oleh: Adinolfi, Wilson  K\n",
      "Nilai Maksimum: 20, dipegang oleh: Bates, Norman\n"
     ]
    }
   ],
   "source": [
    "import pandas as pd\n",
    "\n",
    "# Tentukan path file Excel\n",
    "file_path = r\"E:\\Belajar\\KuliahUdinus\\semester-04\\Sistem Pendukung Keputusan\\8 June - 14 June\\UAS_SPK_SAW\\employee_data.xlsx\"\n",
    "\n",
    "# Baca file Excel\n",
    "df = pd.read_excel(file_path)\n",
    "\n",
    "# Kolom yang akan dianalisis\n",
    "columns = ['EngagementSurvey', 'EmpSatisfaction', 'SpecialProjectsCount', 'Absences']\n",
    "\n",
    "# Loop melalui setiap kolom untuk mencari min dan max\n",
    "for col in columns:\n",
    "    # Cari nilai minimum dan nama karyawan\n",
    "    min_value = df[col].min()\n",
    "    min_employee = df[df[col] == min_value]['Employee_Name'].iloc[0]\n",
    "    \n",
    "    # Cari nilai maksimum dan nama karyawan\n",
    "    max_value = df[col].max()\n",
    "    max_employee = df[df[col] == max_value]['Employee_Name'].iloc[0]\n",
    "    \n",
    "    # Cetak hasil\n",
    "    print(f\"\\nKolom: {col}\")\n",
    "    print(f\"Nilai Minimum: {min_value}, dipegang oleh: {min_employee}\")\n",
    "    print(f\"Nilai Maksimum: {max_value}, dipegang oleh: {max_employee}\")"
   ]
  }
 ],
 "metadata": {
  "kernelspec": {
   "display_name": "Python 3 (Python 3.9)",
   "language": "python",
   "name": "py3.9"
  },
  "language_info": {
   "codemirror_mode": {
    "name": "ipython",
    "version": 3
   },
   "file_extension": ".py",
   "mimetype": "text/x-python",
   "name": "python",
   "nbconvert_exporter": "python",
   "pygments_lexer": "ipython3",
   "version": "3.12.3"
  }
 },
 "nbformat": 4,
 "nbformat_minor": 5
}
